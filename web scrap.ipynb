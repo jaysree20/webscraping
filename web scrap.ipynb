{
 "cells": [
  {
   "cell_type": "code",
   "execution_count": null,
   "metadata": {},
   "outputs": [],
   "source": [
    "import requests\n",
    "from bs4 import BeautifulSoup\n",
    "import csv\n",
    "import wget\n",
    "\n",
    "quotes=[]  # a list to store quotes\n",
    "for page in range(35, 10880):   \n",
    "\tURL = f\"http://www.hypotheticalzeolites.net/dataconfirmed?page={page}&ent_pp=200&orderby=bgbener&toggle=-asc\"\n",
    "\tr = requests.get(URL)\n",
    "\t   \n",
    "\tsoup = BeautifulSoup(r.content, 'html5lib')\t   \n",
    "\ttable = soup.find('div', attrs = {'id':'navigation'}) \n",
    "\n",
    "\ti = 0 \n",
    "\tfor row in table.findAll('tr'):\n",
    "\t\tif i>1:\n",
    "\t\t\tj = 0\n",
    "\t\t\tquote = {}\n",
    "\t\t\tfor col in row.findAll('td'):\n",
    "\t\t\t\tif j >0:\n",
    "\t\t\t\t\tcif_page_url = f\"http://www.hypotheticalzeolites.net{row.a['href']}\"\n",
    "\t\t\t\t\tquote['url'] = cif_page_url\n",
    "\t\t\t\t\tcif_r = requests.get(cif_page_url)\n",
    "\t\t\t\t\t   \n",
    "\t\t\t\t\tcif_soup = BeautifulSoup(cif_r.content, 'html5lib')\t   \n",
    "\t\t\t\t\tcif_data = cif_soup.findAll('h2') \n",
    "\t\t\t\t\tfor h2 in cif_data:\n",
    "\t\t\t\t\t\tif h2.text == \"CIF file\":\n",
    "\t\t\t\t\t\t\tcif_file_url = f\"http://www.hypotheticalzeolites.net{h2.a['href']}\"\n",
    "\t\t\t\t\t\t\tquote['cif_file_url'] = cif_file_url\n",
    "\t\t\t\t\t\t\twget.download(cif_file_url)\n",
    "\n",
    "\t\t\t\t\tbreak\n",
    "\t\t\t\telse:\n",
    "\t\t\t\t\tquote['id'] = col.text\n",
    "\t\t\t\t\tj+=1\n",
    "\t\t\t\n",
    "\t\t\tquotes.append(quote)\n",
    "\t\telse:\n",
    "\t\t\ti+=1\n",
    "filename = 'data.csv'\n",
    "with open(filename, 'w', newline='') as f:\n",
    "    w = csv.DictWriter(f,['id','url','cif_file_url'])\n",
    "    w.writeheader()\n",
    "    for quote in quotes:\n",
    "        w.writerow(quote)"
   ]
  }
 ],
 "metadata": {
  "kernelspec": {
   "display_name": "Python 3",
   "language": "python",
   "name": "python3"
  },
  "language_info": {
   "codemirror_mode": {
    "name": "ipython",
    "version": 3
   },
   "file_extension": ".py",
   "mimetype": "text/x-python",
   "name": "python",
   "nbconvert_exporter": "python",
   "pygments_lexer": "ipython3",
   "version": "3.8.5"
  }
 },
 "nbformat": 4,
 "nbformat_minor": 4
}
